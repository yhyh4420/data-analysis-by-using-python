{
  "nbformat": 4,
  "nbformat_minor": 0,
  "metadata": {
    "colab": {
      "provenance": [],
      "toc_visible": true,
      "mount_file_id": "10bcUnK0LbQN1aisYwRnJBN2DztFKKDUJ",
      "authorship_tag": "ABX9TyORuiOtE72HUMgrZGbxfldu",
      "include_colab_link": true
    },
    "kernelspec": {
      "name": "python3",
      "display_name": "Python 3"
    },
    "language_info": {
      "name": "python"
    }
  },
  "cells": [
    {
      "cell_type": "markdown",
      "metadata": {
        "id": "view-in-github",
        "colab_type": "text"
      },
      "source": [
        "<a href=\"https://colab.research.google.com/github/yhyh4420/data-analysis-by-using-python/blob/main/hw2.ipynb\" target=\"_parent\"><img src=\"https://colab.research.google.com/assets/colab-badge.svg\" alt=\"Open In Colab\"/></a>"
      ]
    },
    {
      "cell_type": "code",
      "execution_count": 1,
      "metadata": {
        "id": "8HDl2o1WKKca"
      },
      "outputs": [],
      "source": [
        "import torch\n",
        "import pandas as pd\n",
        "import numpy as np\n",
        "from torch import nn\n",
        "from torch import optim\n",
        "from torch.utils.data import Dataset, dataloader, random_split\n",
        "from sklearn.model_selection import train_test_split\n",
        "import seaborn as sns\n",
        "import matplotlib.pyplot as plt\n",
        "import matplotlib.font_manager as fm"
      ]
    },
    {
      "cell_type": "code",
      "source": [
        "from google.colab import drive\n",
        "drive.mount('/gdrive')"
      ],
      "metadata": {
        "colab": {
          "base_uri": "https://localhost:8080/"
        },
        "id": "BlV4NL_Mcxdh",
        "outputId": "4f626c8a-5d97-4689-d7b8-f480c5e273e0"
      },
      "execution_count": 2,
      "outputs": [
        {
          "output_type": "stream",
          "name": "stdout",
          "text": [
            "Mounted at /gdrive\n"
          ]
        }
      ]
    },
    {
      "cell_type": "code",
      "source": [
        "df = pd.read_csv('/gdrive/MyDrive/Colab Notebooks/육군 신체측정정보.csv', encoding='euc-kr')"
      ],
      "metadata": {
        "id": "iu9PjnAmL6n-"
      },
      "execution_count": 3,
      "outputs": []
    },
    {
      "cell_type": "code",
      "source": [
        "df = df.dropna()\n",
        "df = df.drop(['순번', '측정 일자'], axis = 1)\n",
        "df.columns = ['가슴', '소매길이', '신장', '허리', '샅높이', '머리둘레', '발길이', '몸무게']"
      ],
      "metadata": {
        "id": "tRyJKS91OPWk"
      },
      "execution_count": 4,
      "outputs": []
    },
    {
      "cell_type": "code",
      "source": [
        "q3 = df.quantile(0.75)\n",
        "q1 = df.quantile(0.25)\n",
        "iqr = q3 - q1"
      ],
      "metadata": {
        "id": "5szRh-d5XZWl"
      },
      "execution_count": 5,
      "outputs": []
    }
  ]
}